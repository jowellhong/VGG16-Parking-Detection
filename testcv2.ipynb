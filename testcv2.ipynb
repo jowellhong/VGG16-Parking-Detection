{
 "cells": [
  {
   "cell_type": "code",
   "execution_count": 1,
   "id": "d270f39e-73d9-463a-a6ba-f1739f3e09c4",
   "metadata": {},
   "outputs": [],
   "source": [
    "import cv2 \n",
    "import numpy as np\n",
    "import tensorflow as tf\n",
    "import matplotlib.pyplot as plt\n",
    "import matplotlib.patches as patches"
   ]
  },
  {
   "cell_type": "code",
   "execution_count": 2,
   "id": "9e8dd83e-942e-44b0-97e1-4f04455bb86a",
   "metadata": {},
   "outputs": [],
   "source": [
    "img = cv2.imread('/Users/hongjowell/parking/parkinglot.jpeg')"
   ]
  },
  {
   "cell_type": "code",
   "execution_count": 3,
   "id": "6ee92b40-778d-4a8f-be46-1e214c94e050",
   "metadata": {},
   "outputs": [],
   "source": [
    "y = 149\n",
    "x = 142\n",
    "i = 0"
   ]
  },
  {
   "cell_type": "code",
   "execution_count": 4,
   "id": "dde32814-a513-45cc-b72c-60a3b451f344",
   "metadata": {},
   "outputs": [
    {
     "name": "stderr",
     "output_type": "stream",
     "text": [
      "2022-04-06 09:23:05.259763: I tensorflow/core/platform/cpu_feature_guard.cc:151] This TensorFlow binary is optimized with oneAPI Deep Neural Network Library (oneDNN) to use the following CPU instructions in performance-critical operations:  AVX2 FMA\n",
      "To enable them in other operations, rebuild TensorFlow with the appropriate compiler flags.\n"
     ]
    }
   ],
   "source": [
    "model = tf.keras.models.load_model(\"/Users/hongjowell/parking/Model/saved_model.h5\")\n",
    "\n",
    "from tensorflow.keras.applications.vgg16 import VGG16\n",
    "HEIGHT = 49\n",
    "WIDTH = 37\n"
   ]
  },
  {
   "cell_type": "code",
   "execution_count": 5,
   "id": "490673b9-a069-4795-bf9d-256d9fb869e1",
   "metadata": {
    "scrolled": true,
    "tags": []
   },
   "outputs": [],
   "source": [
    "for i in range (19):\n",
    "    cropped_image = img [y:y+85, x:x+45]\n",
    "    image = cv2.resize(cropped_image, (WIDTH, HEIGHT))\n",
    "    image_x = np.expand_dims(image, axis=0)\n",
    "    image_x = tf.keras.applications.vgg16.preprocess_input(image_x)\n",
    "    prediction = model.predict(image_x)\n",
    "    prediction = np.squeeze(prediction)\n",
    "\n",
    "    if prediction> 0.8:\n",
    "\n",
    "        cv2.rectangle(img, (x, y), (x+45, y+85),(0, 0, 255), 3)\n",
    "    else:\n",
    "\n",
    "        cv2.rectangle(img, (x, y), (x+45, y+85),(0, 255, 0), 3)\n",
    "        \n",
    "    x = x+45\n",
    "\n",
    "cv2.imshow('image', img)\n",
    "cv2.waitKey(0)\n",
    "cv2.destroyAllWindows()"
   ]
  },
  {
   "cell_type": "code",
   "execution_count": null,
   "id": "5b49c570-f8f0-47e4-b0c2-0283b09c8fe6",
   "metadata": {},
   "outputs": [],
   "source": [
    "   "
   ]
  },
  {
   "cell_type": "code",
   "execution_count": null,
   "id": "f2ad09b1-6dd2-472c-93a3-41c4f9921253",
   "metadata": {},
   "outputs": [],
   "source": []
  }
 ],
 "metadata": {
  "kernelspec": {
   "display_name": "Python 3 (ipykernel)",
   "language": "python",
   "name": "python3"
  },
  "language_info": {
   "codemirror_mode": {
    "name": "ipython",
    "version": 3
   },
   "file_extension": ".py",
   "mimetype": "text/x-python",
   "name": "python",
   "nbconvert_exporter": "python",
   "pygments_lexer": "ipython3",
   "version": "3.7.13"
  }
 },
 "nbformat": 4,
 "nbformat_minor": 5
}
