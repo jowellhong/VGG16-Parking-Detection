{
 "cells": [
  {
   "cell_type": "code",
   "execution_count": 4,
   "id": "c01a00c0-0ff0-46a0-a9ae-9c5797a4c239",
   "metadata": {},
   "outputs": [],
   "source": [
    "import cv2 \n",
    "import numpy as np\n",
    "import tensorflow as tf\n",
    "import matplotlib.pyplot as plt\n",
    "import matplotlib.patches as patches"
   ]
  },
  {
   "cell_type": "code",
   "execution_count": 5,
   "id": "cb92278f-b211-4b2c-8c71-08db501dd6fd",
   "metadata": {},
   "outputs": [],
   "source": [
    "img = cv2.imread('/Users/hongjowell/parking/parkinglot.jpeg')"
   ]
  },
  {
   "cell_type": "code",
   "execution_count": 6,
   "id": "9f014e3d-e675-4a5e-ae6a-cfb9c26fd60f",
   "metadata": {},
   "outputs": [],
   "source": [
    "from tensorflow.keras.applications.vgg16 import VGG16\n",
    "HEIGHT = 49\n",
    "WIDTH = 37"
   ]
  },
  {
   "cell_type": "code",
   "execution_count": 13,
   "id": "9d1f4f01-9100-4939-956a-ae650e464771",
   "metadata": {},
   "outputs": [],
   "source": [
    "y = 348\n",
    "x = 198\n",
    "i = 0"
   ]
  },
  {
   "cell_type": "code",
   "execution_count": 14,
   "id": "5d34c17a-216d-44ff-9594-4c36dd865e1f",
   "metadata": {},
   "outputs": [],
   "source": [
    "for i in range (16):\n",
    "    cropped_image = img [y:y+85, x:x+48]\n",
    "    image = cv2.resize(cropped_image, (WIDTH, HEIGHT))\n",
    "    image_x = np.expand_dims(image, axis=0)\n",
    "    image_x = tf.keras.applications.vgg16.preprocess_input(image_x)\n",
    "    cv2.imshow('image',cropped_image)\n",
    "    cv2.waitKey(0)\n",
    "    x = x+48\n",
    "\n"
   ]
  },
  {
   "cell_type": "code",
   "execution_count": null,
   "id": "3d1c93ec-abe2-43a5-89d2-139c761a299c",
   "metadata": {},
   "outputs": [],
   "source": []
  }
 ],
 "metadata": {
  "kernelspec": {
   "display_name": "Python 3 (ipykernel)",
   "language": "python",
   "name": "python3"
  },
  "language_info": {
   "codemirror_mode": {
    "name": "ipython",
    "version": 3
   },
   "file_extension": ".py",
   "mimetype": "text/x-python",
   "name": "python",
   "nbconvert_exporter": "python",
   "pygments_lexer": "ipython3",
   "version": "3.7.13"
  }
 },
 "nbformat": 4,
 "nbformat_minor": 5
}
